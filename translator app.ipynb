{
 "cells": [
  {
   "cell_type": "code",
   "execution_count": 5,
   "id": "e55e2b6f-f647-46f0-ad2e-ea34c3326332",
   "metadata": {},
   "outputs": [],
   "source": [
    "from tkinter import *\n",
    "from tkinter import ttk\n",
    "from googletrans import Translator,LANGUAGES\n",
    "root=Tk()\n",
    "root.geometry(\"1100x320\")\n",
    "root[\"bg\"]=\"skyblue\"\n",
    "root.title(\"Language Translator\")\n",
    "Label(root,text=\"Language Translator\",font=\"Roboto 20 bold\").pack()\n",
    "Label(root,text=\"Enter Text     \",font=\"Roboto 13 bold \",bg=\"white\").place(x=165,y=90)\n",
    "input_text=Entry(root,width=60)\n",
    "input_text.place(x=30,y=130)\n",
    "Label(root,text=\"Output\",font=\"Roboto 13 bold\",bg=\"white\").place(x=780,y=90)\n",
    "output_text=Text(root,font=\"Roboto 10\",height=5,wrap=WORD,padx=5,pady=5,width=50)\n",
    "output_text.place(x=600,y=130)\n",
    "language=list(LANGUAGES.values())\n",
    "dest_lang=ttk.Combobox(root,values=language,width=22)\n",
    "dest_lang.place(x=130,y=180)\n",
    "dest_lang.set(\"choose language\")\n",
    "def translate():\n",
    "    translator=Translator()\n",
    "    translated=translator.translate(text=input_text.get(),dest=dest_lang.get())\n",
    "    output_text.delete(1.0,END)\n",
    "    output_text.insert(END,translated.text)\n",
    "trans_btn=Button(root,text=\"translate\",font=\"roboto 12 bold\",pady=5,command=translate,bg=\"orange\",activebackground=\"green\")\n",
    "trans_btn.place(x=445,y=180)\n",
    "root.mainloop()\n"
   ]
  },
  {
   "cell_type": "code",
   "execution_count": null,
   "id": "ef189e82-04d1-4cae-87de-b244a28b8902",
   "metadata": {},
   "outputs": [],
   "source": []
  }
 ],
 "metadata": {
  "kernelspec": {
   "display_name": "Python 3 (ipykernel)",
   "language": "python",
   "name": "python3"
  },
  "language_info": {
   "codemirror_mode": {
    "name": "ipython",
    "version": 3
   },
   "file_extension": ".py",
   "mimetype": "text/x-python",
   "name": "python",
   "nbconvert_exporter": "python",
   "pygments_lexer": "ipython3",
   "version": "3.11.7"
  }
 },
 "nbformat": 4,
 "nbformat_minor": 5
}
