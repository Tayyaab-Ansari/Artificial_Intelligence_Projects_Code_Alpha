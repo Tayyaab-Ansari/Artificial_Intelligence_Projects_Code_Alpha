{
 "cells": [
  {
   "cell_type": "code",
   "execution_count": 1,
   "id": "5559a52b-de03-487b-8a43-cfcc74c988f7",
   "metadata": {},
   "outputs": [],
   "source": [
    "import spacy\n",
    "import pandas as pd\n",
    "from sklearn.feature_extraction.text import TfidfVectorizer\n",
    "from sklearn.metrics.pairwise import cosine_similarity"
   ]
  },
  {
   "cell_type": "code",
   "execution_count": 2,
   "id": "bdcccd9a-ee01-4f10-9c84-e21b8b563c26",
   "metadata": {},
   "outputs": [],
   "source": [
    "nlp = spacy.load('en_core_web_sm')\n",
    "file_path = 'climate_change_faqs.csv' \n",
    "faq_df = pd.read_csv(file_path)\n",
    "questions = []\n",
    "answers = []\n",
    "\n",
    "current_question = None\n",
    "for _, row in faq_df.iterrows():\n",
    "    if row['text_type'] == 'q':\n",
    "        current_question = row['faq']\n",
    "    elif row['text_type'] == 'a' and current_question is not None:\n",
    "        questions.append(current_question)\n",
    "        answers.append(row['faq'])\n",
    "        current_question = None\n",
    "\n",
    "faq_pairs_df = pd.DataFrame({'Question': questions, 'Answer': answers})"
   ]
  },
  {
   "cell_type": "code",
   "execution_count": 3,
   "id": "14017882-dace-48ce-89b2-ad16f8f454bf",
   "metadata": {},
   "outputs": [],
   "source": [
    "\n",
    "def preprocess_text(text):\n",
    "    doc = nlp(text.lower())\n",
    "    tokens = [token.lemma_ for token in doc if not token.is_stop and not token.is_punct]\n",
    "    return \" \".join(tokens)\n",
    "faq_pairs_df['Processed_Question'] = faq_pairs_df['Question'].apply(preprocess_text)\n",
    "vectorizer = TfidfVectorizer()\n",
    "tfidf_matrix = vectorizer.fit_transform(faq_pairs_df['Processed_Question'])\n",
    "def get_best_match(query, faq_df, tfidf_matrix, vectorizer):\n",
    "    processed_query = preprocess_text(query)\n",
    "    query_vec = vectorizer.transform([processed_query])\n",
    "    similarities = cosine_similarity(query_vec, tfidf_matrix)\n",
    "    best_match_idx = similarities.argmax()\n",
    "    best_question = faq_df['Question'].iloc[best_match_idx]\n",
    "    best_answer = faq_df['Answer'].iloc[best_match_idx]\n",
    "    return best_question, best_answer\n",
    "stop_words = ['bye', 'goodbye', 'take care', 'exit']"
   ]
  },
  {
   "cell_type": "code",
   "execution_count": 4,
   "id": "30017308-6ddc-471a-9d9a-dc06c5ef79ea",
   "metadata": {},
   "outputs": [],
   "source": [
    "\n",
    "def run_chatbot():\n",
    "    print(\"Chatbot: Hello! Ask me anything about climate change.\")\n",
    "    while True:\n",
    "        query = input(\"You: \").lower()\n",
    "        if query in stop_words:\n",
    "            print(\"Chatbot: Goodbye! Take care!\")\n",
    "            break\n",
    "        else:\n",
    "            best_question, best_answer = get_best_match(query, faq_pairs_df, tfidf_matrix, vectorizer)\n",
    "            print(f\"Chatbot:\\n{best_answer}\\n\")"
   ]
  },
  {
   "cell_type": "code",
   "execution_count": 5,
   "id": "63e15941-3b57-4375-8527-e2772ada100b",
   "metadata": {},
   "outputs": [
    {
     "name": "stdout",
     "output_type": "stream",
     "text": [
      "Chatbot: Hello! Ask me anything about climate change.\n"
     ]
    },
    {
     "name": "stdin",
     "output_type": "stream",
     "text": [
      "You:  what is climate change ?\n"
     ]
    },
    {
     "name": "stdout",
     "output_type": "stream",
     "text": [
      "Chatbot:\n",
      "Climate change (or global warming), is the process of our planet heating up.\n",
      "\n",
      "Scientists estimate that since the Industrial Revolution, human activity has caused the Earth to warm by approximately 1°C. While that might not sound like much, it means big things for people and wildlife around the globe.\n",
      "\n",
      "Unfortunately, rising temperatures don’t just mean that we’ll get nicer weather – if only! The changing climate will actually make our weather more extreme and unpredictable. \n",
      "\n",
      "As temperatures rise, some areas will get wetter and lots of animals (and humans!) could find they’re not able to adapt to their changing climate. \n",
      "\n"
     ]
    },
    {
     "name": "stdin",
     "output_type": "stream",
     "text": [
      "You:  does deforestation alos contribute in climate change?\n"
     ]
    },
    {
     "name": "stdout",
     "output_type": "stream",
     "text": [
      "Chatbot:\n",
      "Yes, deforestation contributes to climate change in a couple ways. Forests are one of our most important types of natural carbon storage, so when forests get cut down, they lose their ability to store the greenhouse gas. Burning trees release even more carbon into the atmosphere.\n",
      "\n",
      "Forests are some of the best \"natural climate solutions\" we have on this planet. If we can slow or stop deforestation and manage natural land so that it is healthy, we could achieve up to one third of the emission reductions needed by 2030 to keep global temperatures from rising more than 2°C (3.6°C).\n",
      "\n",
      "That’s the equivalent of the world putting a complete stop to burning oil.\n",
      "\n"
     ]
    },
    {
     "name": "stdin",
     "output_type": "stream",
     "text": [
      "You:  what action can we take to control it?\n"
     ]
    },
    {
     "name": "stdout",
     "output_type": "stream",
     "text": [
      "Chatbot:\n",
      "Limiting global warming to 1.5°C above pre-industrial temperatures means CO2 emissions need to reach net zero by 2050. This will need to happen in every country, no matter how small or large. The nature of climate change means emissions have global impacts, and so a global collaborative response makes the challenge easier and cheaper to overcome in the long-run[1].  \n",
      "\n",
      "However, there are also likely to be direct benefits from taking the lead in reducing emissions. By taking early and decisive action on climate change, the UK could gain a competitive edge in providing zero-carbon expertise, goods and services for other countries as they ramp up their action on climate change too. \n",
      "\n"
     ]
    },
    {
     "name": "stdin",
     "output_type": "stream",
     "text": [
      "You:  exit\n"
     ]
    },
    {
     "name": "stdout",
     "output_type": "stream",
     "text": [
      "Chatbot: Goodbye! Take care!\n"
     ]
    }
   ],
   "source": [
    "\n",
    "if __name__ == \"__main__\":\n",
    "    run_chatbot()\n"
   ]
  },
  {
   "cell_type": "code",
   "execution_count": null,
   "id": "694323c9-fdf1-4136-900b-96cebb90f508",
   "metadata": {},
   "outputs": [],
   "source": []
  },
  {
   "cell_type": "code",
   "execution_count": null,
   "id": "798129ed-0320-402b-922e-aa437d08d87c",
   "metadata": {},
   "outputs": [],
   "source": []
  },
  {
   "cell_type": "code",
   "execution_count": null,
   "id": "bf7d5f7c-b99d-4a55-92ef-31a427358bb3",
   "metadata": {},
   "outputs": [],
   "source": []
  }
 ],
 "metadata": {
  "kernelspec": {
   "display_name": "Python 3 (ipykernel)",
   "language": "python",
   "name": "python3"
  },
  "language_info": {
   "codemirror_mode": {
    "name": "ipython",
    "version": 3
   },
   "file_extension": ".py",
   "mimetype": "text/x-python",
   "name": "python",
   "nbconvert_exporter": "python",
   "pygments_lexer": "ipython3",
   "version": "3.11.7"
  }
 },
 "nbformat": 4,
 "nbformat_minor": 5
}
